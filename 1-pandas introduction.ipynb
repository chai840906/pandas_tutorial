{
 "cells": [
  {
   "cell_type": "code",
   "execution_count": 25,
   "metadata": {},
   "outputs": [],
   "source": [
    "import pandas as pd\n",
    "import matplotlib.pyplot as plt\n",
    "from matplotlib import style\n",
    "style.use('ggplot')\n",
    "import numpy as np\n",
    "\n",
    "web_stats = {'Day':[1,2,3,4,5,6],\n",
    "            'Visitors':[43,52,34,64,32,51],\n",
    "            'Bounce_Rate':[62, 54, 72, 66, 57, 61]}\n",
    "\n",
    "df = pd.DataFrame(web_stats)\n",
    "\n"
   ]
  },
  {
   "cell_type": "code",
   "execution_count": 26,
   "metadata": {},
   "outputs": [
    {
     "name": "stdout",
     "output_type": "stream",
     "text": [
      "   Day  Visitors  Bounce_Rate\n",
      "0    1        43           62\n",
      "1    2        52           54\n",
      "2    3        34           72\n",
      "3    4        64           66\n",
      "4    5        32           57\n",
      "5    6        51           61\n",
      "   Day  Visitors  Bounce_Rate\n",
      "0    1        43           62\n",
      "1    2        52           54\n",
      "2    3        34           72\n",
      "3    4        64           66\n",
      "4    5        32           57\n",
      "   Day  Visitors  Bounce_Rate\n",
      "0    1        43           62\n",
      "1    2        52           54\n",
      "2    3        34           72\n",
      "   Day  Visitors  Bounce_Rate\n",
      "1    2        52           54\n",
      "2    3        34           72\n",
      "3    4        64           66\n",
      "4    5        32           57\n",
      "5    6        51           61\n",
      "   Day  Visitors  Bounce_Rate\n",
      "3    4        64           66\n",
      "4    5        32           57\n",
      "5    6        51           61\n"
     ]
    }
   ],
   "source": [
    "#1.print data frame\n",
    "print(df)\n",
    "print(df.head())\n",
    "print(df.head(3))\n",
    "print(df.tail())\n",
    "print(df.tail(3))\n",
    "\n"
   ]
  },
  {
   "cell_type": "code",
   "execution_count": 27,
   "metadata": {},
   "outputs": [
    {
     "name": "stdout",
     "output_type": "stream",
     "text": [
      "     Visitors  Bounce_Rate\n",
      "Day                       \n",
      "1          43           62\n",
      "2          52           54\n",
      "3          34           72\n",
      "4          64           66\n",
      "5          32           57\n",
      "6          51           61\n"
     ]
    }
   ],
   "source": [
    "#2.set index\n",
    "#wrong way\n",
    "#print(df.set_index('Day'))\n",
    "#print(df.head())\n",
    "\n",
    "#correct way\n",
    "#df = df.set_index('Day')\n",
    "#or\n",
    "df.set_index('Day', inplace = True)\n",
    "print(df)\n"
   ]
  },
  {
   "cell_type": "code",
   "execution_count": 28,
   "metadata": {},
   "outputs": [
    {
     "name": "stdout",
     "output_type": "stream",
     "text": [
      "Day\n",
      "1    43\n",
      "2    52\n",
      "3    34\n",
      "4    64\n",
      "5    32\n",
      "6    51\n",
      "Name: Visitors, dtype: int64\n",
      "Day\n",
      "1    43\n",
      "2    52\n",
      "3    34\n",
      "4    64\n",
      "5    32\n",
      "6    51\n",
      "Name: Visitors, dtype: int64\n",
      "     Bounce_Rate  Visitors\n",
      "Day                       \n",
      "1             62        43\n",
      "2             54        52\n",
      "3             72        34\n",
      "4             66        64\n",
      "5             57        32\n",
      "6             61        51\n"
     ]
    }
   ],
   "source": [
    "#3.reference columns and rows\n",
    "#3.1 reference a single column\n",
    "print(df['Visitors'])\n",
    "#or\n",
    "print(df.Visitors)\n",
    "\n",
    "#3.2 reference multiple column\n",
    "print(df[ ['Bounce_Rate','Visitors'] ])"
   ]
  },
  {
   "cell_type": "code",
   "execution_count": 29,
   "metadata": {},
   "outputs": [
    {
     "name": "stdout",
     "output_type": "stream",
     "text": [
      "[43, 52, 34, 64, 32, 51]\n"
     ]
    }
   ],
   "source": [
    "#4.convert to list\n",
    "print(df.Visitors.tolist())"
   ]
  },
  {
   "cell_type": "code",
   "execution_count": 31,
   "metadata": {},
   "outputs": [
    {
     "name": "stdout",
     "output_type": "stream",
     "text": [
      "[[62 43]\n",
      " [54 52]\n",
      " [72 34]\n",
      " [66 64]\n",
      " [57 32]\n",
      " [61 51]]\n"
     ]
    }
   ],
   "source": [
    "#5.convert to numpy array\n",
    "print(np.array(df[ ['Bounce_Rate','Visitors'] ]))"
   ]
  },
  {
   "cell_type": "code",
   "execution_count": 33,
   "metadata": {},
   "outputs": [
    {
     "name": "stdout",
     "output_type": "stream",
     "text": [
      "    0   1\n",
      "0  62  43\n",
      "1  54  52\n",
      "2  72  34\n",
      "3  66  64\n",
      "4  57  32\n",
      "5  61  51\n"
     ]
    }
   ],
   "source": [
    "#6.convert back from numpy array\n",
    "df2 = pd.DataFrame(np.array(df[['Bounce_Rate','Visitors']]))\n",
    "print(df2)"
   ]
  }
 ],
 "metadata": {
  "kernelspec": {
   "display_name": "Python 3",
   "language": "python",
   "name": "python3"
  },
  "language_info": {
   "codemirror_mode": {
    "name": "ipython",
    "version": 3
   },
   "file_extension": ".py",
   "mimetype": "text/x-python",
   "name": "python",
   "nbconvert_exporter": "python",
   "pygments_lexer": "ipython3",
   "version": "3.6.5"
  }
 },
 "nbformat": 4,
 "nbformat_minor": 2
}
